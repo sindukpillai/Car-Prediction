{
 "cells": [
  {
   "cell_type": "code",
   "execution_count": 1,
   "id": "1ebabf6e",
   "metadata": {},
   "outputs": [],
   "source": [
    "import numpy as np\n",
    "import pandas as pd\n",
    "import matplotlib.pyplot as plt\n",
    "import seaborn as sns\n",
    "%matplotlib inline"
   ]
  },
  {
   "cell_type": "markdown",
   "id": "dff3b13e",
   "metadata": {},
   "source": [
    "why %matplotlib inline"
   ]
  },
  {
   "cell_type": "code",
   "execution_count": 2,
   "id": "6e96e4e2",
   "metadata": {},
   "outputs": [],
   "source": [
    "#read the dataset\n",
    "dataset=pd.read_csv(\"C:\\\\Users\\\\HP\\\\Desktop\\\\train.csv\")"
   ]
  },
  {
   "cell_type": "code",
   "execution_count": 3,
   "id": "4166495f",
   "metadata": {},
   "outputs": [
    {
     "name": "stdout",
     "output_type": "stream",
     "text": [
      "zfnsjdb\n"
     ]
    }
   ],
   "source": [
    "#df.isna().sum()\n",
    "print('zfnsjdb')"
   ]
  },
  {
   "cell_type": "markdown",
   "id": "47743001",
   "metadata": {},
   "source": [
    "Since lgbtq_out, country_birth fewsture having more than 95% of missing values so we can drop these"
   ]
  },
  {
   "cell_type": "code",
   "execution_count": 4,
   "id": "74ce3e27",
   "metadata": {},
   "outputs": [
    {
     "data": {
      "text/html": [
       "<div>\n",
       "<style scoped>\n",
       "    .dataframe tbody tr th:only-of-type {\n",
       "        vertical-align: middle;\n",
       "    }\n",
       "\n",
       "    .dataframe tbody tr th {\n",
       "        vertical-align: top;\n",
       "    }\n",
       "\n",
       "    .dataframe thead th {\n",
       "        text-align: right;\n",
       "    }\n",
       "</style>\n",
       "<table border=\"1\" class=\"dataframe\">\n",
       "  <thead>\n",
       "    <tr style=\"text-align: right;\">\n",
       "      <th></th>\n",
       "      <th>carID</th>\n",
       "      <th>sound_level</th>\n",
       "      <th>engine_capacity</th>\n",
       "      <th>Torque</th>\n",
       "      <th>Total_distance</th>\n",
       "      <th>mileage_per_litre</th>\n",
       "      <th>fuel_efficiency</th>\n",
       "      <th>Accidents_history</th>\n",
       "      <th>no.of.services_per_year</th>\n",
       "      <th>years_of_use</th>\n",
       "      <th>owners</th>\n",
       "      <th>emission_rate</th>\n",
       "      <th>Type</th>\n",
       "    </tr>\n",
       "  </thead>\n",
       "  <tbody>\n",
       "    <tr>\n",
       "      <th>0</th>\n",
       "      <td>MODEL-5939</td>\n",
       "      <td>80.0</td>\n",
       "      <td>1146</td>\n",
       "      <td>7331</td>\n",
       "      <td>25779</td>\n",
       "      <td>7.233290</td>\n",
       "      <td>46.215374</td>\n",
       "      <td>0</td>\n",
       "      <td>9</td>\n",
       "      <td>2</td>\n",
       "      <td>4</td>\n",
       "      <td>euro-2</td>\n",
       "      <td>Petrol</td>\n",
       "    </tr>\n",
       "    <tr>\n",
       "      <th>1</th>\n",
       "      <td>MODEL-15067</td>\n",
       "      <td>60.0</td>\n",
       "      <td>1296</td>\n",
       "      <td>7206</td>\n",
       "      <td>13101</td>\n",
       "      <td>9.502186</td>\n",
       "      <td>49.081800</td>\n",
       "      <td>0</td>\n",
       "      <td>4</td>\n",
       "      <td>4</td>\n",
       "      <td>2</td>\n",
       "      <td>euro-5</td>\n",
       "      <td>Diesel</td>\n",
       "    </tr>\n",
       "    <tr>\n",
       "      <th>2</th>\n",
       "      <td>MODEL-797</td>\n",
       "      <td>93.0</td>\n",
       "      <td>4242</td>\n",
       "      <td>4849</td>\n",
       "      <td>28084</td>\n",
       "      <td>3.036102</td>\n",
       "      <td>49.195779</td>\n",
       "      <td>1</td>\n",
       "      <td>7</td>\n",
       "      <td>5</td>\n",
       "      <td>1</td>\n",
       "      <td>euro-2</td>\n",
       "      <td>CNG</td>\n",
       "    </tr>\n",
       "    <tr>\n",
       "      <th>3</th>\n",
       "      <td>MODEL-14661</td>\n",
       "      <td>93.0</td>\n",
       "      <td>2702</td>\n",
       "      <td>7465</td>\n",
       "      <td>13677</td>\n",
       "      <td>11.766677</td>\n",
       "      <td>46.397479</td>\n",
       "      <td>0</td>\n",
       "      <td>5</td>\n",
       "      <td>9</td>\n",
       "      <td>3</td>\n",
       "      <td>euro-4</td>\n",
       "      <td>CNG</td>\n",
       "    </tr>\n",
       "    <tr>\n",
       "      <th>4</th>\n",
       "      <td>MODEL-7131</td>\n",
       "      <td>124.0</td>\n",
       "      <td>4850</td>\n",
       "      <td>5512</td>\n",
       "      <td>22898</td>\n",
       "      <td>9.575889</td>\n",
       "      <td>44.092761</td>\n",
       "      <td>0</td>\n",
       "      <td>6</td>\n",
       "      <td>1</td>\n",
       "      <td>2</td>\n",
       "      <td>euro-5</td>\n",
       "      <td>Diesel</td>\n",
       "    </tr>\n",
       "  </tbody>\n",
       "</table>\n",
       "</div>"
      ],
      "text/plain": [
       "         carID  sound_level  engine_capacity  Torque  Total_distance  \\\n",
       "0   MODEL-5939         80.0             1146    7331           25779   \n",
       "1  MODEL-15067         60.0             1296    7206           13101   \n",
       "2    MODEL-797         93.0             4242    4849           28084   \n",
       "3  MODEL-14661         93.0             2702    7465           13677   \n",
       "4   MODEL-7131        124.0             4850    5512           22898   \n",
       "\n",
       "   mileage_per_litre  fuel_efficiency  Accidents_history  \\\n",
       "0           7.233290        46.215374                  0   \n",
       "1           9.502186        49.081800                  0   \n",
       "2           3.036102        49.195779                  1   \n",
       "3          11.766677        46.397479                  0   \n",
       "4           9.575889        44.092761                  0   \n",
       "\n",
       "   no.of.services_per_year  years_of_use  owners emission_rate    Type  \n",
       "0                        9             2       4        euro-2  Petrol  \n",
       "1                        4             4       2        euro-5  Diesel  \n",
       "2                        7             5       1        euro-2     CNG  \n",
       "3                        5             9       3        euro-4     CNG  \n",
       "4                        6             1       2        euro-5  Diesel  "
      ]
     },
     "execution_count": 4,
     "metadata": {},
     "output_type": "execute_result"
    }
   ],
   "source": [
    "#data=df.copy()\n",
    "dataset.head()"
   ]
  },
  {
   "cell_type": "code",
   "execution_count": 5,
   "id": "fa8db289",
   "metadata": {},
   "outputs": [],
   "source": [
    "#Finding null values\n",
    "features_with_na=[features for features in dataset.columns if dataset[features].isnull().sum()>1]\n",
    "for feature in features_with_na:\n",
    "    print(feature,np.round(dataset[feature].isnull().mean(),4),'% missing values')"
   ]
  },
  {
   "cell_type": "code",
   "execution_count": 6,
   "id": "1cc60233",
   "metadata": {},
   "outputs": [],
   "source": [
    "#we need to find relationship between missing columns with target column\n",
    "#copy dataset to data  having null values\n",
    "for feature in features_with_na:\n",
    "    data=dataset.copy()\n",
    "#make value of variable 1 if column value is null otherwise 0\n",
    "    data[feature]=np.where(data[feature].isnull(),1,0)\n",
    "\n",
    "#calculate mean target column value for missing values\n",
    "    data.groupby(feature)['Type'].count().plot.bar()\n",
    "    plt.title(feature)\n",
    "    plt.show()\n",
    "#take count of index column\n",
    "#print('id of voters{}'.format(len(dataset.id)))"
   ]
  },
  {
   "cell_type": "code",
   "execution_count": 7,
   "id": "53f8cf6d",
   "metadata": {},
   "outputs": [
    {
     "name": "stdout",
     "output_type": "stream",
     "text": [
      "number of numerical variable 10\n",
      "no.of.services_per_year [ 9  4  7  5  6  1  2  8 10 11  3]\n"
     ]
    },
    {
     "data": {
      "image/png": "[encoded data removed]",
      "text/plain": [
       "<Figure size 432x288 with 1 Axes>"
      ]
     },
     "metadata": {
      "needs_background": "light"
     },
     "output_type": "display_data"
    },
    {
     "name": "stdout",
     "output_type": "stream",
     "text": [
      "years_of_use [2 4 5 9 1 8 3 7 6]\n"
     ]
    },
    {
     "data": {
      "image/png": "[encoded data removed]",
      "text/plain": [
       "<Figure size 432x288 with 1 Axes>"
      ]
     },
     "metadata": {
      "needs_background": "light"
     },
     "output_type": "display_data"
    }
   ],
   "source": [
    "#numerical variables\n",
    "numerical_features=[feature for feature in dataset.columns if dataset[feature].dtypes!='O']\n",
    "#print numerical column \n",
    "print('number of numerical variable',len(numerical_features))\n",
    "dataset[numerical_features].head()\n",
    "\n",
    "#find feature that contain year information - temporal variable\n",
    "year_feature=[feature for feature in numerical_features if 'year' in feature]\n",
    "\n",
    "#print feature values\n",
    "for feature in year_feature:\n",
    "    print(feature,dataset[feature].unique())\n",
    "    #analyse temporal data with target column\n",
    "    dataset.groupby(feature)['Type'].count().plot()\n",
    "    plt.xlabel(feature)\n",
    "    plt.ylabel('Type')\n",
    "    plt.show()"
   ]
  },
  {
   "cell_type": "code",
   "execution_count": 8,
   "id": "145d1e61",
   "metadata": {},
   "outputs": [
    {
     "name": "stdout",
     "output_type": "stream",
     "text": [
      "descrete variable count 2\n"
     ]
    },
    {
     "data": {
      "image/png": "[encoded data removed]",
      "text/plain": [
       "<Figure size 432x288 with 1 Axes>"
      ]
     },
     "metadata": {
      "needs_background": "light"
     },
     "output_type": "display_data"
    },
    {
     "data": {
      "image/png": "[encoded data removed]",
      "text/plain": [
       "<Figure size 432x288 with 1 Axes>"
      ]
     },
     "metadata": {
      "needs_background": "light"
     },
     "output_type": "display_data"
    }
   ],
   "source": [
    "#Numerical variables\n",
    "descrete_feature=[feature for feature in numerical_features if len(dataset[feature].unique())<25 and feature not in year_feature+['id']]\n",
    "print('descrete variable count {}'.format(len(descrete_feature)))\n",
    "dataset[descrete_feature].head()\n",
    "# find rel b/w descrete feature and target column\n",
    "for feature in descrete_feature:\n",
    "    data=dataset.copy()\n",
    "    data.groupby(feature)['Type'].count().plot.bar()\n",
    "    plt.xlabel(feature)\n",
    "    plt.ylabel('Type')\n",
    "    plt.show()"
   ]
  },
  {
   "cell_type": "code",
   "execution_count": 9,
   "id": "5f904362",
   "metadata": {},
   "outputs": [
    {
     "name": "stdout",
     "output_type": "stream",
     "text": [
      "continuous feature6\n"
     ]
    }
   ],
   "source": [
    "#continuous feature\n",
    "continuous_feature=[feature for feature in numerical_features if feature not in descrete_feature+year_feature+['id']]\n",
    "print('continuous feature{}'.format(len(continuous_feature)))"
   ]
  },
  {
   "cell_type": "code",
   "execution_count": 10,
   "id": "de6608aa",
   "metadata": {},
   "outputs": [
    {
     "data": {
      "image/png": "[encoded data removed]",
      "text/plain": [
       "<Figure size 432x288 with 1 Axes>"
      ]
     },
     "metadata": {
      "needs_background": "light"
     },
     "output_type": "display_data"
    },
    {
     "data": {
      "image/png": "[encoded data removed]",
      "text/plain": [
       "<Figure size 432x288 with 1 Axes>"
      ]
     },
     "metadata": {
      "needs_background": "light"
     },
     "output_type": "display_data"
    },
    {
     "data": {
      "image/png": "[encoded data removed]",
      "text/plain": [
       "<Figure size 432x288 with 1 Axes>"
      ]
     },
     "metadata": {
      "needs_background": "light"
     },
     "output_type": "display_data"
    },
    {
     "data": {
      "image/png": "[encoded data removed]",
      "text/plain": [
       "<Figure size 432x288 with 1 Axes>"
      ]
     },
     "metadata": {
      "needs_background": "light"
     },
     "output_type": "display_data"
    },
    {
     "data": {
      "image/png": "[encoded data removed]",
      "text/plain": [
       "<Figure size 432x288 with 1 Axes>"
      ]
     },
     "metadata": {
      "needs_background": "light"
     },
     "output_type": "display_data"
    },
    {
     "data": {
      "image/png": "[encoded data removed]",
      "text/plain": [
       "<Figure size 432x288 with 1 Axes>"
      ]
     },
     "metadata": {
      "needs_background": "light"
     },
     "output_type": "display_data"
    }
   ],
   "source": [
    "#analyse continuos feature with target column\n",
    "for feature in continuous_feature:\n",
    "    data=dataset.copy()\n",
    "    data[feature].hist(bins=25)\n",
    "    plt.xlabel(feature)\n",
    "    plt.ylabel('Type')\n",
    "    plt.title(feature)\n",
    "    plt.show()"
   ]
  },
  {
   "cell_type": "code",
   "execution_count": 11,
   "id": "2871a9e9",
   "metadata": {},
   "outputs": [],
   "source": [
    "#dataset.drop(['ID'],axis=1,inplace=True)"
   ]
  },
  {
   "cell_type": "code",
   "execution_count": 12,
   "id": "164a8dd5",
   "metadata": {},
   "outputs": [
    {
     "data": {
      "image/png": "[encoded data removed]",
      "text/plain": [
       "<Figure size 432x288 with 1 Axes>"
      ]
     },
     "metadata": {
      "needs_background": "light"
     },
     "output_type": "display_data"
    },
    {
     "data": {
      "image/png": "[encoded data removed]",
      "text/plain": [
       "<Figure size 432x288 with 1 Axes>"
      ]
     },
     "metadata": {
      "needs_background": "light"
     },
     "output_type": "display_data"
    },
    {
     "data": {
      "image/png": "[encoded data removed]",
      "text/plain": [
       "<Figure size 432x288 with 1 Axes>"
      ]
     },
     "metadata": {
      "needs_background": "light"
     },
     "output_type": "display_data"
    },
    {
     "data": {
      "image/png": "[encoded data removed]",
      "text/plain": [
       "<Figure size 432x288 with 1 Axes>"
      ]
     },
     "metadata": {
      "needs_background": "light"
     },
     "output_type": "display_data"
    },
    {
     "data": {
      "image/png": "[encoded data removed]",
      "text/plain": [
       "<Figure size 432x288 with 1 Axes>"
      ]
     },
     "metadata": {
      "needs_background": "light"
     },
     "output_type": "display_data"
    },
    {
     "data": {
      "image/png": "[encoded data removed]",
      "text/plain": [
       "<Figure size 432x288 with 1 Axes>"
      ]
     },
     "metadata": {
      "needs_background": "light"
     },
     "output_type": "display_data"
    }
   ],
   "source": [
    "#numerical variable is going to convert into normal distribution using log fn.\n",
    "for feature in continuous_feature:\n",
    "    data=dataset.copy()\n",
    "    if 0 in data[feature].unique():\n",
    "        pass\n",
    "    else:\n",
    "        data[feature]=np.log(data[feature])\n",
    "        #data['elected']=data['elected']\n",
    "        plt.scatter(data[feature],data['Type'])\n",
    "        plt.xlabel(feature)\n",
    "        plt.ylabel('Type')\n",
    "        plt.title(feature)\n",
    "        plt.show()"
   ]
  },
  {
   "cell_type": "code",
   "execution_count": 13,
   "id": "62dc8f1a",
   "metadata": {},
   "outputs": [
    {
     "data": {
      "image/png": "[encoded data removed]",
      "text/plain": [
       "<Figure size 432x288 with 1 Axes>"
      ]
     },
     "metadata": {
      "needs_background": "light"
     },
     "output_type": "display_data"
    },
    {
     "data": {
      "image/png": "[encoded data removed]",
      "text/plain": [
       "<Figure size 432x288 with 1 Axes>"
      ]
     },
     "metadata": {
      "needs_background": "light"
     },
     "output_type": "display_data"
    },
    {
     "data": {
      "image/png": "[encoded data removed]",
      "text/plain": [
       "<Figure size 432x288 with 1 Axes>"
      ]
     },
     "metadata": {
      "needs_background": "light"
     },
     "output_type": "display_data"
    },
    {
     "data": {
      "image/png": "[encoded data removed]",
      "text/plain": [
       "<Figure size 432x288 with 1 Axes>"
      ]
     },
     "metadata": {
      "needs_background": "light"
     },
     "output_type": "display_data"
    },
    {
     "data": {
      "image/png": "[encoded data removed]",
      "text/plain": [
       "<Figure size 432x288 with 1 Axes>"
      ]
     },
     "metadata": {
      "needs_background": "light"
     },
     "output_type": "display_data"
    },
    {
     "data": {
      "image/png": "[encoded data removed]",
      "text/plain": [
       "<Figure size 432x288 with 1 Axes>"
      ]
     },
     "metadata": {
      "needs_background": "light"
     },
     "output_type": "display_data"
    }
   ],
   "source": [
    "#finding outliers for only continuous features\n",
    "for feature in continuous_feature:\n",
    "    data=dataset.copy()\n",
    "    if 0 in data[feature].unique():\n",
    "        pass\n",
    "    else:\n",
    "        data[feature]=np.log(data[feature])\n",
    "        data.boxplot(column=feature)\n",
    "        plt.ylabel(feature)\n",
    "        plt.title(feature)\n",
    "        plt.show()"
   ]
  },
  {
   "cell_type": "code",
   "execution_count": 14,
   "id": "0719eefa",
   "metadata": {},
   "outputs": [
    {
     "name": "stdout",
     "output_type": "stream",
     "text": [
      "caterical features ['carID', 'emission_rate', 'Type']\n"
     ]
    },
    {
     "data": {
      "text/html": [
       "<div>\n",
       "<style scoped>\n",
       "    .dataframe tbody tr th:only-of-type {\n",
       "        vertical-align: middle;\n",
       "    }\n",
       "\n",
       "    .dataframe tbody tr th {\n",
       "        vertical-align: top;\n",
       "    }\n",
       "\n",
       "    .dataframe thead th {\n",
       "        text-align: right;\n",
       "    }\n",
       "</style>\n",
       "<table border=\"1\" class=\"dataframe\">\n",
       "  <thead>\n",
       "    <tr style=\"text-align: right;\">\n",
       "      <th></th>\n",
       "      <th>carID</th>\n",
       "      <th>emission_rate</th>\n",
       "      <th>Type</th>\n",
       "    </tr>\n",
       "  </thead>\n",
       "  <tbody>\n",
       "    <tr>\n",
       "      <th>0</th>\n",
       "      <td>MODEL-5939</td>\n",
       "      <td>euro-2</td>\n",
       "      <td>Petrol</td>\n",
       "    </tr>\n",
       "    <tr>\n",
       "      <th>1</th>\n",
       "      <td>MODEL-15067</td>\n",
       "      <td>euro-5</td>\n",
       "      <td>Diesel</td>\n",
       "    </tr>\n",
       "    <tr>\n",
       "      <th>2</th>\n",
       "      <td>MODEL-797</td>\n",
       "      <td>euro-2</td>\n",
       "      <td>CNG</td>\n",
       "    </tr>\n",
       "    <tr>\n",
       "      <th>3</th>\n",
       "      <td>MODEL-14661</td>\n",
       "      <td>euro-4</td>\n",
       "      <td>CNG</td>\n",
       "    </tr>\n",
       "    <tr>\n",
       "      <th>4</th>\n",
       "      <td>MODEL-7131</td>\n",
       "      <td>euro-5</td>\n",
       "      <td>Diesel</td>\n",
       "    </tr>\n",
       "  </tbody>\n",
       "</table>\n",
       "</div>"
      ],
      "text/plain": [
       "         carID emission_rate    Type\n",
       "0   MODEL-5939        euro-2  Petrol\n",
       "1  MODEL-15067        euro-5  Diesel\n",
       "2    MODEL-797        euro-2     CNG\n",
       "3  MODEL-14661        euro-4     CNG\n",
       "4   MODEL-7131        euro-5  Diesel"
      ]
     },
     "execution_count": 14,
     "metadata": {},
     "output_type": "execute_result"
    }
   ],
   "source": [
    "#finding categorical features\n",
    "categorical_features=[feature for feature in dataset.columns if dataset[feature].dtypes=='O']\n",
    "print('caterical features {}'.format(categorical_features))\n",
    "dataset[categorical_features].head()"
   ]
  },
  {
   "cell_type": "code",
   "execution_count": 15,
   "id": "9a00491d",
   "metadata": {},
   "outputs": [
    {
     "name": "stdout",
     "output_type": "stream",
     "text": [
      "feature is  carID and number of categories is 9597\n",
      "feature is  emission_rate and number of categories is 5\n",
      "feature is  Type and number of categories is 3\n"
     ]
    }
   ],
   "source": [
    "#printing  category names \n",
    "for feature in categorical_features:\n",
    "    print('feature is  {} and number of categories is {}'.format(feature,len(dataset[feature].unique())))\n",
    "    "
   ]
  },
  {
   "cell_type": "code",
   "execution_count": 16,
   "id": "de36f456",
   "metadata": {},
   "outputs": [
    {
     "name": "stdout",
     "output_type": "stream",
     "text": [
      "         carID  sound_level  engine_capacity  Torque  Total_distance  \\\n",
      "0   MODEL-5939         80.0             1146    7331           25779   \n",
      "1  MODEL-15067         60.0             1296    7206           13101   \n",
      "2    MODEL-797         93.0             4242    4849           28084   \n",
      "3  MODEL-14661         93.0             2702    7465           13677   \n",
      "4   MODEL-7131        124.0             4850    5512           22898   \n",
      "\n",
      "   mileage_per_litre  fuel_efficiency  Accidents_history  \\\n",
      "0           7.233290        46.215374                  0   \n",
      "1           9.502186        49.081800                  0   \n",
      "2           3.036102        49.195779                  1   \n",
      "3          11.766677        46.397479                  0   \n",
      "4           9.575889        44.092761                  0   \n",
      "\n",
      "   no.of.services_per_year  years_of_use  owners emission_rate    Type  \n",
      "0                        9             2       4        euro-2  Petrol  \n",
      "1                        4             4       2        euro-5  Diesel  \n",
      "2                        7             5       1        euro-2     CNG  \n",
      "3                        5             9       3        euro-4     CNG  \n",
      "4                        6             1       2        euro-5  Diesel  \n",
      "(9597, 13)\n"
     ]
    }
   ],
   "source": [
    "#check missing values in categorical columns\n",
    "features_nan=[feature for feature in dataset.columns if dataset[feature].isnull().sum()>1 and dataset[feature].dtypes=='O']\n",
    "for feature in features_nan:\n",
    "        print('feature is {} : {} % missing values'.format(feature,np.round(dataset[feature].isnull().mean(),4)))\n",
    "#replace missing values with a new label\n",
    "def replace_cat_feature(dataset,feature_nan):\n",
    "    data=dataset.copy()\n",
    "    data[feature_nan]=data[feature_nan].fillna(\"missing\")\n",
    "    return data\n",
    "dataset=replace_cat_feature(dataset,features_nan)\n",
    "dataset[features_nan].isnull().sum()\n",
    "print(dataset.head()) \n",
    "print(dataset.shape)"
   ]
  },
  {
   "cell_type": "code",
   "execution_count": 17,
   "id": "819b3633",
   "metadata": {},
   "outputs": [
    {
     "name": "stdout",
     "output_type": "stream",
     "text": [
      "(9597, 13)\n"
     ]
    }
   ],
   "source": [
    "# check numerical fetures with missing values and filling with median\n",
    "numerical_with_nan=[feature for feature in dataset.columns if dataset[feature].isnull().sum()>1 and dataset[feature].dtypes!='O']\n",
    "for feature in numerical_with_nan:\n",
    "    print('feature is {}:{} % missing values'.format(feature,np.round(dataset[feature].isnull().mean(),4)))\n",
    "#replace numerical missing values\n",
    "for feature in numerical_with_nan:\n",
    "    median_value=dataset[feature].median()\n",
    "    #create a new feature to capture nan values\n",
    "    dataset[feature+'nan']=np.where(dataset[feature].isnull(),1,0)\n",
    "    dataset[feature].fillna(median_value,inplace=True)\n",
    "print(dataset.shape)"
   ]
  },
  {
   "cell_type": "code",
   "execution_count": 18,
   "id": "56617392",
   "metadata": {},
   "outputs": [
    {
     "name": "stdout",
     "output_type": "stream",
     "text": [
      "25.0\n",
      "169.0\n",
      "-16288.0\n",
      "52864.0\n"
     ]
    }
   ],
   "source": [
    "#remove outliers for 2 columns\n",
    "def outlier_rem(column):\n",
    "    Q1=np.percentile(dataset[column],25,interpolation='midpoint')\n",
    "    Q2=np.percentile(dataset[column],50,interpolation='midpoint')\n",
    "    Q3=np.percentile(dataset[column],75,interpolation='midpoint')\n",
    "    IQR = Q3 - Q1\n",
    "    lowlim=Q1-1.5*IQR\n",
    "    uplim=Q3+1.5*IQR\n",
    "    print(lowlim)\n",
    "    print(uplim)\n",
    "    outlier = []\n",
    "    for x in dataset[column]:\n",
    "        if ((x>uplim) or (x,lowlim)):\n",
    "            outlier.append(x)\n",
    "    ind1=dataset[column]>uplim\n",
    "    x=dataset.loc[ind1].index\n",
    "\n",
    "    dataset.drop(x,inplace = True)\n",
    "    return\n",
    "\n",
    "columns=['sound_level','Total_distance']\n",
    "for x in columns:\n",
    "    outlier_rem(x)"
   ]
  },
  {
   "cell_type": "code",
   "execution_count": 19,
   "id": "db61775b",
   "metadata": {},
   "outputs": [],
   "source": [
    "# Added a new column age(the age of the candidate at the time of election) \n",
    "#data['age'] = data['year'] - data['birth_year']"
   ]
  },
  {
   "cell_type": "code",
   "execution_count": 20,
   "id": "ff05b626",
   "metadata": {},
   "outputs": [
    {
     "name": "stdout",
     "output_type": "stream",
     "text": [
      "(9595, 13)\n"
     ]
    }
   ],
   "source": [
    "#numerical variable- taking log value:\n",
    "\n",
    "def num_log():\n",
    "    num_features=['mileage_per_litre','fuel_efficiency']\n",
    "    for feature in num_features:\n",
    "        dataset[feature]=np.log(dataset[feature])\n",
    "    dataset.head()\n",
    "    print(dataset.shape)\n",
    "    return\n",
    "num_log()"
   ]
  },
  {
   "cell_type": "code",
   "execution_count": 21,
   "id": "ed66c9cd",
   "metadata": {},
   "outputs": [
    {
     "name": "stdout",
     "output_type": "stream",
     "text": [
      "euro-2    1986\n",
      "euro-3    1932\n",
      "euro-4    1922\n",
      "euro-1    1890\n",
      "euro-5    1867\n",
      "Name: emission_rate, dtype: int64\n",
      "CNG       3532\n",
      "Diesel    3198\n",
      "Petrol    2867\n",
      "Name: Type, dtype: int64\n",
      "         carID  sound_level  engine_capacity  Torque  Total_distance  \\\n",
      "0   MODEL-5939         80.0             1146    7331           25779   \n",
      "1  MODEL-15067         60.0             1296    7206           13101   \n",
      "2    MODEL-797         93.0             4242    4849           28084   \n",
      "3  MODEL-14661         93.0             2702    7465           13677   \n",
      "4   MODEL-7131        124.0             4850    5512           22898   \n",
      "\n",
      "   mileage_per_litre  fuel_efficiency  Accidents_history  \\\n",
      "0           1.978694         3.833313                  0   \n",
      "1           2.251522         3.893488                  0   \n",
      "2           1.110574         3.895808                  1   \n",
      "3           2.465272         3.837245                  0   \n",
      "4           2.259248         3.786296                  0   \n",
      "\n",
      "   no.of.services_per_year  years_of_use  owners  emission_ratecount  \\\n",
      "0                        9             2       4                1986   \n",
      "1                        4             4       2                1867   \n",
      "2                        7             5       1                1986   \n",
      "3                        5             9       3                1922   \n",
      "4                        6             1       2                1867   \n",
      "\n",
      "   Typecount  \n",
      "0       2867  \n",
      "1       3198  \n",
      "2       3532  \n",
      "3       3532  \n",
      "4       3198  \n",
      "(9595, 13)\n"
     ]
    }
   ],
   "source": [
    "#frequency encoding for following columns\n",
    "def freq_encoding(dataset1):\n",
    "    for value in dataset1.columns:\n",
    "        \n",
    "        print(dataset1[value].value_counts())\n",
    "        df_freq_map=dataset1[value].value_counts().to_dict()\n",
    "        dataset1[value+'count']=dataset1[value].map(df_freq_map)\n",
    "        \n",
    "    return dataset1 \n",
    "values= ['emission_rate','Type']\n",
    "\n",
    "dataset1=pd.read_csv(\"C:\\\\Users\\\\HP\\\\Desktop\\\\train.csv\",usecols= values)\n",
    "dataset1=freq_encoding(dataset1)      \n",
    "dataset = pd.concat([dataset, dataset1], axis=1, join='inner')\n",
    "dataset.drop(['emission_rate','Type'],axis=1,inplace=True)        \n",
    "print(dataset.head())\n",
    "print(dataset.shape)"
   ]
  },
  {
   "cell_type": "code",
   "execution_count": 33,
   "id": "b3e99d60",
   "metadata": {},
   "outputs": [
    {
     "name": "stdout",
     "output_type": "stream",
     "text": [
      "euro-3    1297\n",
      "euro-4    1294\n",
      "euro-1    1278\n",
      "euro-5    1268\n",
      "euro-2    1262\n",
      "Name: emission_rate, dtype: int64\n",
      "        carID  sound_level  engine_capacity  Torque  Total_distance  \\\n",
      "0  MODEL-5388           60             3668    6338            9644   \n",
      "1  MODEL-9984           95             4792    6986           17711   \n",
      "2  MODEL-9448           69             1972    6525           14830   \n",
      "3  MODEL-7471           74             1017    4191           13101   \n",
      "4  MODEL-9119          104             3344    5886           10220   \n",
      "\n",
      "   mileage_per_litre  fuel_efficiency  Accidents_history  \\\n",
      "0          11.216932        50.927105                  1   \n",
      "1          10.926671        35.372252                  0   \n",
      "2           7.086474        54.152738                  0   \n",
      "3          12.266090        47.621681                  0   \n",
      "4          14.241568        45.342329                  0   \n",
      "\n",
      "   no.of.services_per_year  years_of_use  owners  emission_ratecount  \n",
      "0                        5             8       4                1278  \n",
      "1                        8             1       2                1294  \n",
      "2                        2             3       4                1268  \n",
      "3                        1             3       2                1294  \n",
      "4                        6             9       2                1297  \n",
      "(6399, 12)\n"
     ]
    }
   ],
   "source": [
    "dataset_test=pd.read_csv(\"C:\\\\Users\\\\HP\\\\Desktop\\\\test.csv\")\n",
    "col=['emission_rate']\n",
    "dataset1=pd.read_csv(\"C:\\\\Users\\\\HP\\\\Desktop\\\\test.csv\",usecols= col)\n",
    "dataset1=freq_encoding(dataset1)      \n",
    "dataset_test = pd.concat([dataset_test, dataset1], axis=1, join='inner')\n",
    "dataset_test.drop(['emission_rate'],axis=1,inplace=True)        \n",
    "print(dataset_test.head())\n",
    "print(dataset_test.shape)"
   ]
  },
  {
   "cell_type": "code",
   "execution_count": 34,
   "id": "c0c2fd8b",
   "metadata": {},
   "outputs": [
    {
     "name": "stdout",
     "output_type": "stream",
     "text": [
      "Index(['carID', 'sound_level', 'engine_capacity', 'Torque', 'Total_distance',\n",
      "       'mileage_per_litre', 'fuel_efficiency', 'Accidents_history',\n",
      "       'no.of.services_per_year', 'years_of_use', 'owners',\n",
      "       'emission_ratecount', 'Typecount'],\n",
      "      dtype='object')\n",
      "Index(['carID', 'sound_level', 'engine_capacity', 'Torque', 'Total_distance',\n",
      "       'mileage_per_litre', 'fuel_efficiency', 'Accidents_history',\n",
      "       'no.of.services_per_year', 'years_of_use', 'owners',\n",
      "       'emission_ratecount'],\n",
      "      dtype='object')\n"
     ]
    },
    {
     "data": {
      "text/plain": [
       "carID                      0\n",
       "sound_level                0\n",
       "engine_capacity            0\n",
       "Torque                     0\n",
       "Total_distance             0\n",
       "mileage_per_litre          0\n",
       "fuel_efficiency            0\n",
       "Accidents_history          0\n",
       "no.of.services_per_year    0\n",
       "years_of_use               0\n",
       "owners                     0\n",
       "emission_ratecount         0\n",
       "Typecount                  0\n",
       "dtype: int64"
      ]
     },
     "execution_count": 34,
     "metadata": {},
     "output_type": "execute_result"
    }
   ],
   "source": [
    "print(dataset.columns)\n",
    "print(dataset_test.columns)\n",
    "dataset.isna().sum()\n"
   ]
  },
  {
   "cell_type": "code",
   "execution_count": 35,
   "id": "1d2f1608",
   "metadata": {},
   "outputs": [
    {
     "name": "stdout",
     "output_type": "stream",
     "text": [
      "(9595, 13)\n",
      "(6399, 12)\n"
     ]
    }
   ],
   "source": [
    "print(dataset.shape)\n",
    "print(dataset_test.shape)"
   ]
  },
  {
   "cell_type": "code",
   "execution_count": 36,
   "id": "483206bc",
   "metadata": {},
   "outputs": [
    {
     "data": {
      "text/html": [
       "<div>\n",
       "<style scoped>\n",
       "    .dataframe tbody tr th:only-of-type {\n",
       "        vertical-align: middle;\n",
       "    }\n",
       "\n",
       "    .dataframe tbody tr th {\n",
       "        vertical-align: top;\n",
       "    }\n",
       "\n",
       "    .dataframe thead th {\n",
       "        text-align: right;\n",
       "    }\n",
       "</style>\n",
       "<table border=\"1\" class=\"dataframe\">\n",
       "  <thead>\n",
       "    <tr style=\"text-align: right;\">\n",
       "      <th></th>\n",
       "      <th>carID</th>\n",
       "      <th>sound_level</th>\n",
       "      <th>engine_capacity</th>\n",
       "      <th>Torque</th>\n",
       "      <th>Total_distance</th>\n",
       "      <th>mileage_per_litre</th>\n",
       "      <th>fuel_efficiency</th>\n",
       "      <th>Accidents_history</th>\n",
       "      <th>no.of.services_per_year</th>\n",
       "      <th>years_of_use</th>\n",
       "      <th>owners</th>\n",
       "      <th>emission_ratecount</th>\n",
       "    </tr>\n",
       "  </thead>\n",
       "  <tbody>\n",
       "    <tr>\n",
       "      <th>0</th>\n",
       "      <td>MODEL-5388</td>\n",
       "      <td>60</td>\n",
       "      <td>3668</td>\n",
       "      <td>6338</td>\n",
       "      <td>9644</td>\n",
       "      <td>11.216932</td>\n",
       "      <td>50.927105</td>\n",
       "      <td>1</td>\n",
       "      <td>5</td>\n",
       "      <td>8</td>\n",
       "      <td>4</td>\n",
       "      <td>1278</td>\n",
       "    </tr>\n",
       "    <tr>\n",
       "      <th>1</th>\n",
       "      <td>MODEL-9984</td>\n",
       "      <td>95</td>\n",
       "      <td>4792</td>\n",
       "      <td>6986</td>\n",
       "      <td>17711</td>\n",
       "      <td>10.926671</td>\n",
       "      <td>35.372252</td>\n",
       "      <td>0</td>\n",
       "      <td>8</td>\n",
       "      <td>1</td>\n",
       "      <td>2</td>\n",
       "      <td>1294</td>\n",
       "    </tr>\n",
       "    <tr>\n",
       "      <th>2</th>\n",
       "      <td>MODEL-9448</td>\n",
       "      <td>69</td>\n",
       "      <td>1972</td>\n",
       "      <td>6525</td>\n",
       "      <td>14830</td>\n",
       "      <td>7.086474</td>\n",
       "      <td>54.152738</td>\n",
       "      <td>0</td>\n",
       "      <td>2</td>\n",
       "      <td>3</td>\n",
       "      <td>4</td>\n",
       "      <td>1268</td>\n",
       "    </tr>\n",
       "    <tr>\n",
       "      <th>3</th>\n",
       "      <td>MODEL-7471</td>\n",
       "      <td>74</td>\n",
       "      <td>1017</td>\n",
       "      <td>4191</td>\n",
       "      <td>13101</td>\n",
       "      <td>12.266090</td>\n",
       "      <td>47.621681</td>\n",
       "      <td>0</td>\n",
       "      <td>1</td>\n",
       "      <td>3</td>\n",
       "      <td>2</td>\n",
       "      <td>1294</td>\n",
       "    </tr>\n",
       "    <tr>\n",
       "      <th>4</th>\n",
       "      <td>MODEL-9119</td>\n",
       "      <td>104</td>\n",
       "      <td>3344</td>\n",
       "      <td>5886</td>\n",
       "      <td>10220</td>\n",
       "      <td>14.241568</td>\n",
       "      <td>45.342329</td>\n",
       "      <td>0</td>\n",
       "      <td>6</td>\n",
       "      <td>9</td>\n",
       "      <td>2</td>\n",
       "      <td>1297</td>\n",
       "    </tr>\n",
       "    <tr>\n",
       "      <th>...</th>\n",
       "      <td>...</td>\n",
       "      <td>...</td>\n",
       "      <td>...</td>\n",
       "      <td>...</td>\n",
       "      <td>...</td>\n",
       "      <td>...</td>\n",
       "      <td>...</td>\n",
       "      <td>...</td>\n",
       "      <td>...</td>\n",
       "      <td>...</td>\n",
       "      <td>...</td>\n",
       "      <td>...</td>\n",
       "    </tr>\n",
       "    <tr>\n",
       "      <th>95</th>\n",
       "      <td>MODEL-11011</td>\n",
       "      <td>129</td>\n",
       "      <td>3367</td>\n",
       "      <td>6808</td>\n",
       "      <td>10220</td>\n",
       "      <td>10.899946</td>\n",
       "      <td>54.804394</td>\n",
       "      <td>1</td>\n",
       "      <td>2</td>\n",
       "      <td>2</td>\n",
       "      <td>1</td>\n",
       "      <td>1278</td>\n",
       "    </tr>\n",
       "    <tr>\n",
       "      <th>96</th>\n",
       "      <td>MODEL-11387</td>\n",
       "      <td>125</td>\n",
       "      <td>2374</td>\n",
       "      <td>3354</td>\n",
       "      <td>4457</td>\n",
       "      <td>7.479023</td>\n",
       "      <td>56.377726</td>\n",
       "      <td>1</td>\n",
       "      <td>1</td>\n",
       "      <td>1</td>\n",
       "      <td>1</td>\n",
       "      <td>1297</td>\n",
       "    </tr>\n",
       "    <tr>\n",
       "      <th>97</th>\n",
       "      <td>MODEL-12710</td>\n",
       "      <td>93</td>\n",
       "      <td>1259</td>\n",
       "      <td>3365</td>\n",
       "      <td>6762</td>\n",
       "      <td>13.926022</td>\n",
       "      <td>35.669895</td>\n",
       "      <td>0</td>\n",
       "      <td>6</td>\n",
       "      <td>8</td>\n",
       "      <td>2</td>\n",
       "      <td>1268</td>\n",
       "    </tr>\n",
       "    <tr>\n",
       "      <th>98</th>\n",
       "      <td>MODEL-6624</td>\n",
       "      <td>111</td>\n",
       "      <td>4838</td>\n",
       "      <td>3590</td>\n",
       "      <td>18288</td>\n",
       "      <td>5.342042</td>\n",
       "      <td>47.866819</td>\n",
       "      <td>0</td>\n",
       "      <td>9</td>\n",
       "      <td>5</td>\n",
       "      <td>1</td>\n",
       "      <td>1262</td>\n",
       "    </tr>\n",
       "    <tr>\n",
       "      <th>99</th>\n",
       "      <td>MODEL-11044</td>\n",
       "      <td>114</td>\n",
       "      <td>4970</td>\n",
       "      <td>4234</td>\n",
       "      <td>17711</td>\n",
       "      <td>5.943965</td>\n",
       "      <td>45.403504</td>\n",
       "      <td>0</td>\n",
       "      <td>7</td>\n",
       "      <td>9</td>\n",
       "      <td>4</td>\n",
       "      <td>1278</td>\n",
       "    </tr>\n",
       "  </tbody>\n",
       "</table>\n",
       "<p>100 rows × 12 columns</p>\n",
       "</div>"
      ],
      "text/plain": [
       "          carID  sound_level  engine_capacity  Torque  Total_distance  \\\n",
       "0    MODEL-5388           60             3668    6338            9644   \n",
       "1    MODEL-9984           95             4792    6986           17711   \n",
       "2    MODEL-9448           69             1972    6525           14830   \n",
       "3    MODEL-7471           74             1017    4191           13101   \n",
       "4    MODEL-9119          104             3344    5886           10220   \n",
       "..          ...          ...              ...     ...             ...   \n",
       "95  MODEL-11011          129             3367    6808           10220   \n",
       "96  MODEL-11387          125             2374    3354            4457   \n",
       "97  MODEL-12710           93             1259    3365            6762   \n",
       "98   MODEL-6624          111             4838    3590           18288   \n",
       "99  MODEL-11044          114             4970    4234           17711   \n",
       "\n",
       "    mileage_per_litre  fuel_efficiency  Accidents_history  \\\n",
       "0           11.216932        50.927105                  1   \n",
       "1           10.926671        35.372252                  0   \n",
       "2            7.086474        54.152738                  0   \n",
       "3           12.266090        47.621681                  0   \n",
       "4           14.241568        45.342329                  0   \n",
       "..                ...              ...                ...   \n",
       "95          10.899946        54.804394                  1   \n",
       "96           7.479023        56.377726                  1   \n",
       "97          13.926022        35.669895                  0   \n",
       "98           5.342042        47.866819                  0   \n",
       "99           5.943965        45.403504                  0   \n",
       "\n",
       "    no.of.services_per_year  years_of_use  owners  emission_ratecount  \n",
       "0                         5             8       4                1278  \n",
       "1                         8             1       2                1294  \n",
       "2                         2             3       4                1268  \n",
       "3                         1             3       2                1294  \n",
       "4                         6             9       2                1297  \n",
       "..                      ...           ...     ...                 ...  \n",
       "95                        2             2       1                1278  \n",
       "96                        1             1       1                1297  \n",
       "97                        6             8       2                1268  \n",
       "98                        9             5       1                1262  \n",
       "99                        7             9       4                1278  \n",
       "\n",
       "[100 rows x 12 columns]"
      ]
     },
     "execution_count": 36,
     "metadata": {},
     "output_type": "execute_result"
    }
   ],
   "source": [
    "dataset_test.head(100)"
   ]
  },
  {
   "cell_type": "code",
   "execution_count": 37,
   "id": "8cc95e80",
   "metadata": {},
   "outputs": [
    {
     "data": {
      "text/plain": [
       "carID                      0\n",
       "sound_level                0\n",
       "engine_capacity            0\n",
       "Torque                     0\n",
       "Total_distance             0\n",
       "mileage_per_litre          0\n",
       "fuel_efficiency            0\n",
       "Accidents_history          0\n",
       "no.of.services_per_year    0\n",
       "years_of_use               0\n",
       "owners                     0\n",
       "emission_ratecount         0\n",
       "Typecount                  0\n",
       "dtype: int64"
      ]
     },
     "execution_count": 37,
     "metadata": {},
     "output_type": "execute_result"
    }
   ],
   "source": [
    "dataset.isna().sum()"
   ]
  },
  {
   "cell_type": "code",
   "execution_count": 38,
   "id": "6326275a",
   "metadata": {},
   "outputs": [],
   "source": [
    "#dataset.drop(['locationcount','advice_to_mgmtcount'],axis=1,inplace=True)\n"
   ]
  },
  {
   "cell_type": "code",
   "execution_count": 39,
   "id": "3f9e13ed",
   "metadata": {},
   "outputs": [
    {
     "name": "stdout",
     "output_type": "stream",
     "text": [
      "         carID  sound_level  engine_capacity  Torque  Total_distance  \\\n",
      "0   MODEL-5939         80.0             1146    7331           25779   \n",
      "1  MODEL-15067         60.0             1296    7206           13101   \n",
      "2    MODEL-797         93.0             4242    4849           28084   \n",
      "3  MODEL-14661         93.0             2702    7465           13677   \n",
      "4   MODEL-7131        124.0             4850    5512           22898   \n",
      "\n",
      "   mileage_per_litre  fuel_efficiency  Accidents_history  \\\n",
      "0           1.978694         3.833313                  0   \n",
      "1           2.251522         3.893488                  0   \n",
      "2           1.110574         3.895808                  1   \n",
      "3           2.465272         3.837245                  0   \n",
      "4           2.259248         3.786296                  0   \n",
      "\n",
      "   no.of.services_per_year  years_of_use  owners  emission_ratecount  \\\n",
      "0                        9             2       4                1986   \n",
      "1                        4             4       2                1867   \n",
      "2                        7             5       1                1986   \n",
      "3                        5             9       3                1922   \n",
      "4                        6             1       2                1867   \n",
      "\n",
      "   Typecount  \n",
      "0       2867  \n",
      "1       3198  \n",
      "2       3532  \n",
      "3       3532  \n",
      "4       3198  \n"
     ]
    }
   ],
   "source": [
    "#Feature scaling\n",
    "from sklearn.preprocessing import MinMaxScaler\n",
    "feature_scale=[feature for feature in dataset.columns if feature not in ['Type','carID']]\n",
    "scaler=MinMaxScaler()\n",
    "scaler.fit(dataset[feature_scale])\n",
    "MinMaxScaler(copy=True,feature_range=(0,1))\n",
    "scaler.transform(dataset[feature_scale])\n",
    "print(dataset.head())"
   ]
  },
  {
   "cell_type": "code",
   "execution_count": 40,
   "id": "ed8fc505",
   "metadata": {},
   "outputs": [],
   "source": [
    "#drop inf values of all columns\n",
    "\n",
    "def dro_inf_values():\n",
    "    for i in  dataset.columns:\n",
    "        if (i=='sound_level' or i=='engine_capacity' or i=='Torque' or i=='Total_distance'  or i=='mileage_per_litre'  or i=='fuel_efficiency' or i=='Accidents_history' or i=='services_per_year' or i=='years_of_use' or i=='owners' or i=='emission_ratecount') and np.isinf(dataset[i]).values.any():\n",
    "            dataset.replace([np.inf, -np.inf], np.nan, inplace=True)\n",
    "            dataset.dropna(subset=['sound_level','engine_capacity','Torque','Total_distance','mileage_per_litre','fuel_efficiency','Accidents_history','no.of.services_per_year','years_of_use','owners','emission_ratecount'], how=\"all\", inplace=True)\n",
    "   \n",
    "    return\n",
    "dro_inf_values()"
   ]
  },
  {
   "cell_type": "code",
   "execution_count": 41,
   "id": "d8457b31",
   "metadata": {},
   "outputs": [
    {
     "data": {
      "text/plain": [
       "Index(['carID', 'sound_level', 'engine_capacity', 'Torque', 'Total_distance',\n",
       "       'mileage_per_litre', 'fuel_efficiency', 'Accidents_history',\n",
       "       'no.of.services_per_year', 'years_of_use', 'owners',\n",
       "       'emission_ratecount', 'Typecount'],\n",
       "      dtype='object')"
      ]
     },
     "execution_count": 41,
     "metadata": {},
     "output_type": "execute_result"
    }
   ],
   "source": [
    "dataset.columns"
   ]
  },
  {
   "cell_type": "code",
   "execution_count": null,
   "id": "c6ee669a",
   "metadata": {},
   "outputs": [],
   "source": []
  },
  {
   "cell_type": "code",
   "execution_count": 42,
   "id": "8bf90528",
   "metadata": {},
   "outputs": [
    {
     "data": {
      "text/plain": [
       "carID                       object\n",
       "sound_level                float64\n",
       "engine_capacity              int64\n",
       "Torque                       int64\n",
       "Total_distance               int64\n",
       "mileage_per_litre          float64\n",
       "fuel_efficiency            float64\n",
       "Accidents_history            int64\n",
       "no.of.services_per_year      int64\n",
       "years_of_use                 int64\n",
       "owners                       int64\n",
       "emission_ratecount           int64\n",
       "Typecount                    int64\n",
       "dtype: object"
      ]
     },
     "execution_count": 42,
     "metadata": {},
     "output_type": "execute_result"
    }
   ],
   "source": [
    "dataset.dtypes"
   ]
  },
  {
   "cell_type": "code",
   "execution_count": 43,
   "id": "0b364b5c",
   "metadata": {},
   "outputs": [],
   "source": [
    "#from sklearn.linear_model import Lasso\n",
    "#from sklearn.feature_selection import SelectFromModel\n",
    "dataset=dataset.replace(np.nan,0)\n",
    "Y=dataset[['Typecount']]\n",
    "X=dataset.drop(['carID','Typecount'],axis=1)\n",
    "#selection model\n",
    "#feature_sel_model=SelectFromModel(Lasso(alpha=.005,random_state=0))\n",
    "#feature_sel_model.fit_transform(X,Y)\n",
    "#feature_sel_model.get_support()"
   ]
  },
  {
   "cell_type": "code",
   "execution_count": 44,
   "id": "1e7ed148",
   "metadata": {},
   "outputs": [
    {
     "name": "stdout",
     "output_type": "stream",
     "text": [
      "Index(['carID', 'sound_level', 'engine_capacity', 'Torque', 'Total_distance',\n",
      "       'mileage_per_litre', 'fuel_efficiency', 'Accidents_history',\n",
      "       'no.of.services_per_year', 'years_of_use', 'owners',\n",
      "       'emission_ratecount', 'Typecount'],\n",
      "      dtype='object')\n",
      "Index(['carID', 'sound_level', 'engine_capacity', 'Torque', 'Total_distance',\n",
      "       'mileage_per_litre', 'fuel_efficiency', 'Accidents_history',\n",
      "       'no.of.services_per_year', 'years_of_use', 'owners',\n",
      "       'emission_ratecount'],\n",
      "      dtype='object')\n"
     ]
    }
   ],
   "source": [
    "print(dataset.columns)\n",
    "print(dataset_test.columns)\n"
   ]
  },
  {
   "cell_type": "code",
   "execution_count": 45,
   "id": "7c8112ef",
   "metadata": {},
   "outputs": [],
   "source": [
    "#data.iloc[:, 0:2] # first two columns of data frame with all rows\n",
    "#X_train=dataset.iloc[:,1:12]\n",
    "#Y_train=Y\n",
    "#X_test=dataset_test.iloc[:,1:12]  \n",
    "#print(X_train)\n",
    "from sklearn.model_selection import train_test_split\n",
    "\n",
    "X_train,X_test,Y_train,Y_test = train_test_split(X,Y,test_size=0.2,random_state=45)\n"
   ]
  },
  {
   "cell_type": "markdown",
   "id": "8e6cab10",
   "metadata": {},
   "source": [
    "LOGISTIC REGRESSION"
   ]
  },
  {
   "cell_type": "code",
   "execution_count": 46,
   "id": "8604588c",
   "metadata": {},
   "outputs": [
    {
     "name": "stderr",
     "output_type": "stream",
     "text": [
      "C:\\Users\\HP\\anaconda3\\lib\\site-packages\\sklearn\\utils\\validation.py:993: DataConversionWarning: A column-vector y was passed when a 1d array was expected. Please change the shape of y to (n_samples, ), for example using ravel().\n",
      "  y = column_or_1d(y, warn=True)\n"
     ]
    },
    {
     "data": {
      "text/plain": [
       "array([3198, 3532, 3532, ..., 3532, 3532, 3532], dtype=int64)"
      ]
     },
     "execution_count": 46,
     "metadata": {},
     "output_type": "execute_result"
    }
   ],
   "source": [
    "#datasetf['DataFrame Column'] = df['DataFrame Column'].replace(np.nan, 0)\n",
    "\n",
    "\n",
    "from sklearn.linear_model import LogisticRegression\n",
    "logit_reg = LogisticRegression()\n",
    "logit_reg.fit(X_train,Y_train)\n",
    "Y_pred = logit_reg.predict(X_test)\n",
    "Y_pred"
   ]
  },
  {
   "cell_type": "code",
   "execution_count": 47,
   "id": "221eb462",
   "metadata": {},
   "outputs": [
    {
     "name": "stdout",
     "output_type": "stream",
     "text": [
      "accuracy is: 0.36216779572694113\n",
      "precision score: 0.22445167169431876\n",
      "recall_score: 0.32694967965849553\n",
      "f1 score: 0.23025556255247692\n"
     ]
    },
    {
     "name": "stderr",
     "output_type": "stream",
     "text": [
      "C:\\Users\\HP\\anaconda3\\lib\\site-packages\\sklearn\\metrics\\_classification.py:1318: UndefinedMetricWarning: Precision is ill-defined and being set to 0.0 in labels with no predicted samples. Use `zero_division` parameter to control this behavior.\n",
      "  _warn_prf(average, modifier, msg_start, len(result))\n"
     ]
    }
   ],
   "source": [
    "from sklearn.metrics import accuracy_score,precision_score,f1_score,recall_score,confusion_matrix\n",
    "\n",
    "\n",
    "print(\"accuracy is:\",accuracy_score(Y_test,Y_pred))\n",
    "print(\"precision score:\",precision_score(Y_test,Y_pred,average='macro'))\n",
    "print(\"recall_score:\",recall_score(Y_test,Y_pred,average='macro'))\n",
    "print('f1 score:',f1_score(Y_test,Y_pred,average='macro'))"
   ]
  },
  {
   "cell_type": "markdown",
   "id": "f61134aa",
   "metadata": {},
   "source": [
    "DESICION TREE"
   ]
  },
  {
   "cell_type": "code",
   "execution_count": 48,
   "id": "de7a1ed7",
   "metadata": {},
   "outputs": [],
   "source": [
    "from sklearn.tree import DecisionTreeClassifier\n",
    "\n",
    "dt_model = DecisionTreeClassifier()\n",
    "dt_model.fit(X_train,Y_train)\n",
    "y_pred = dt_model.predict(X_test)"
   ]
  },
  {
   "cell_type": "code",
   "execution_count": 49,
   "id": "eb2d3a7d",
   "metadata": {},
   "outputs": [
    {
     "name": "stdout",
     "output_type": "stream",
     "text": [
      "accuracy is: 0.3381969775924961\n",
      "precision score: 0.3365303623111097\n",
      "recall_score: 0.3368311586820814\n",
      "f1 score: 0.33657375980719634\n"
     ]
    }
   ],
   "source": [
    "\n",
    "from sklearn.metrics import accuracy_score,precision_score,f1_score,recall_score,confusion_matrix\n",
    "print(\"accuracy is:\",accuracy_score(Y_test,y_pred))\n",
    "print(\"precision score:\",precision_score(Y_test,y_pred,average='macro'))\n",
    "print(\"recall_score:\",recall_score(Y_test,y_pred,average='macro'))\n",
    "print('f1 score:',f1_score(Y_test,y_pred,average='macro'))"
   ]
  },
  {
   "cell_type": "markdown",
   "id": "d963b4ee",
   "metadata": {},
   "source": [
    "RANDOM FOREST"
   ]
  },
  {
   "cell_type": "code",
   "execution_count": 50,
   "id": "e03add70",
   "metadata": {},
   "outputs": [
    {
     "name": "stderr",
     "output_type": "stream",
     "text": [
      "C:\\Users\\HP\\AppData\\Local\\Temp\\ipykernel_15520\\2178641526.py:4: DataConversionWarning: A column-vector y was passed when a 1d array was expected. Please change the shape of y to (n_samples,), for example using ravel().\n",
      "  random.fit(X_train,Y_train)\n"
     ]
    },
    {
     "data": {
      "text/plain": [
       "array([3198, 3532, 3198, ..., 3198, 3532, 3198], dtype=int64)"
      ]
     },
     "execution_count": 50,
     "metadata": {},
     "output_type": "execute_result"
    }
   ],
   "source": [
    "from sklearn.ensemble import RandomForestClassifier\n",
    "\n",
    "random = RandomForestClassifier(n_estimators=100)\n",
    "random.fit(X_train,Y_train)\n",
    "\n",
    "y_pred=random.predict(X_test)\n",
    "y_pred\n"
   ]
  },
  {
   "cell_type": "code",
   "execution_count": null,
   "id": "f3e4cf10",
   "metadata": {},
   "outputs": [],
   "source": []
  },
  {
   "cell_type": "code",
   "execution_count": 51,
   "id": "a81e4a1f",
   "metadata": {},
   "outputs": [
    {
     "name": "stdout",
     "output_type": "stream",
     "text": [
      "accuracy is: 0.34080250130276185\n",
      "precision score: 0.33407216467472534\n",
      "recall_score: 0.33056314393443226\n",
      "f1 score: 0.33329760298370675\n"
     ]
    }
   ],
   "source": [
    "print(\"accuracy is:\",accuracy_score(Y_test,y_pred))\n",
    "print(\"precision score:\",precision_score(Y_test,y_pred,average='macro'))\n",
    "print(\"recall_score:\",recall_score(Y_test,y_pred,average='macro'))\n",
    "print('f1 score:',f1_score(Y_test,y_pred,average='weighted'))"
   ]
  },
  {
   "cell_type": "code",
   "execution_count": 55,
   "id": "7c3dc12b",
   "metadata": {},
   "outputs": [],
   "source": [
    "X_test=dataset_test.iloc[:,1:12]  \n",
    "y_pred=random.predict(X_test)\n",
    "\n",
    "data_sub=pd.DataFrame(y_pred)\n",
    "\n",
    "data_sub['carID']=dataset_test['carID']\n",
    "\n",
    "data_sub['Type']=y_pred\n",
    "dict={3198:'Petrol',2867:'Diesel',3532:'CNG'}\n",
    "data_sub['Type']=data_sub['Type'].map(dict)\n",
    "\n",
    "data_sub.to_csv('C:\\\\Users\\\\HP\\\\Desktop\\\\output.csv',index=False)"
   ]
  },
  {
   "cell_type": "code",
   "execution_count": null,
   "id": "f42c2123",
   "metadata": {},
   "outputs": [],
   "source": []
  }
 ],
 "metadata": {
  "kernelspec": {
   "display_name": "Python 3 (ipykernel)",
   "language": "python",
   "name": "python3"
  },
  "language_info": {
   "codemirror_mode": {
    "name": "ipython",
    "version": 3
   },
   "file_extension": ".py",
   "mimetype": "text/x-python",
   "name": "python",
   "nbconvert_exporter": "python",
   "pygments_lexer": "ipython3",
   "version": "3.9.12"
  }
 },
 "nbformat": 4,
 "nbformat_minor": 5
}
